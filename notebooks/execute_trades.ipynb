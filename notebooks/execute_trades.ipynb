{
 "cells": [
  {
   "cell_type": "markdown",
   "metadata": {},
   "source": [
    "# Execute Trades in Alpaca"
   ]
  },
  {
   "cell_type": "code",
   "execution_count": 1,
   "metadata": {},
   "outputs": [],
   "source": [
    "from pathlib import Path\n",
    "import sys\n",
    "\n",
    "# Setup paths\n",
    "ROOT_DIR = Path.cwd().parent\n",
    "sys.path.append(str(ROOT_DIR))\n",
    "sys.path.append(str(ROOT_DIR / \"src\"))\n",
    "\n",
    "from trading.alpaca_trade import load_predictions, execute_portfolio_strategy\n",
    "\n",
    "PREDICTIONS_FILEPATH = ROOT_DIR / \"data\" / \"live\" / \"predictions_2025-03-30.csv\""
   ]
  },
  {
   "cell_type": "code",
   "execution_count": 2,
   "metadata": {},
   "outputs": [
    {
     "name": "stderr",
     "output_type": "stream",
     "text": [
      "INFO:root:Loaded predictions from /home/austin-lipe/GdriveOffline/Rice_Classes/BUSI722/Trader-Project/stock-prediction-project/data/live/predictions_2025-03-30.csv\n",
      "INFO:root:Account equity: $100000.00, Buying power: $200000.00\n",
      "INFO:root:Buy order placed for OMF: 299 shares.\n",
      "INFO:root:Buy order placed for ROG: 214 shares.\n",
      "INFO:root:Buy order placed for FF: 3477 shares.\n",
      "INFO:root:Buy order placed for CRAI: 83 shares.\n",
      "INFO:root:Buy order placed for LOW: 63 shares.\n",
      "INFO:root:Buy order placed for ECPG: 423 shares.\n",
      "INFO:root:Buy order placed for VG: 1460 shares.\n",
      "INFO:root:Buy order placed for PRAA: 705 shares.\n",
      "INFO:root:Buy order placed for ABBV: 70 shares.\n",
      "INFO:root:Buy order placed for MTEX: 1292 shares.\n",
      "INFO:root:Sell order placed for CVU: 2727 shares.\n",
      "WARNING:root:NAVB is not tradable.\n",
      "INFO:root:Sell order placed for UVE: 385 shares.\n",
      "WARNING:root:NBY cannot be shorted.\n",
      "WARNING:root:Asset check failed for CLVS: {\"code\":40410000,\"message\":\"asset not found for CLVS\"}\n"
     ]
    }
   ],
   "source": [
    "predictions_df = load_predictions(PREDICTIONS_FILEPATH)\n",
    "execute_portfolio_strategy(predictions_df)"
   ]
  },
  {
   "cell_type": "code",
   "execution_count": null,
   "metadata": {},
   "outputs": [],
   "source": []
  }
 ],
 "metadata": {
  "kernelspec": {
   "display_name": "busi721_env",
   "language": "python",
   "name": "python3"
  },
  "language_info": {
   "codemirror_mode": {
    "name": "ipython",
    "version": 3
   },
   "file_extension": ".py",
   "mimetype": "text/x-python",
   "name": "python",
   "nbconvert_exporter": "python",
   "pygments_lexer": "ipython3",
   "version": "3.11.11"
  }
 },
 "nbformat": 4,
 "nbformat_minor": 2
}
