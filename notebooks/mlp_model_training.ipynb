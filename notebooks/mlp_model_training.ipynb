{
 "cells": [
  {
   "cell_type": "markdown",
   "metadata": {},
   "source": [
    "# Training MLP Model"
   ]
  },
  {
   "cell_type": "code",
   "execution_count": 1,
   "metadata": {},
   "outputs": [
    {
     "name": "stderr",
     "output_type": "stream",
     "text": [
      "2025-04-12 12:39:02.383026: I tensorflow/core/util/port.cc:153] oneDNN custom operations are on. You may see slightly different numerical results due to floating-point round-off errors from different computation orders. To turn them off, set the environment variable `TF_ENABLE_ONEDNN_OPTS=0`.\n",
      "2025-04-12 12:39:02.424640: I tensorflow/core/platform/cpu_feature_guard.cc:210] This TensorFlow binary is optimized to use available CPU instructions in performance-critical operations.\n",
      "To enable the following instructions: SSE4.1 SSE4.2 AVX AVX2 AVX512F AVX512_VNNI FMA, in other operations, rebuild TensorFlow with the appropriate compiler flags.\n",
      "INFO:root:Database connection established successfully.\n"
     ]
    },
    {
     "name": "stdout",
     "output_type": "stream",
     "text": [
      "{'default': {'data': {'overall_date_range': {'start': '2010-01', 'end': '2010-04'}, 'rolling_window': {'train_window_months': 1, 'test_offset': 1}}, 'features': {'base': ['mom1m', 'mom6m', 'mom12m', 'retvol', 'bm', 'siccd']}, 'preprocessing_pipeline': ['drop_na', 'quantile_transform', 'encode_industry', 'drop_na'], 'model': {'name': 'mlpk', 'params': {'hidden_layer_sizes': [[8, 4]], 'activation': ['relu'], 'solver': ['adam'], 'max_iter': [500]}}}, 'experiment_2': {'data': {'overall_date_range': {'start': '2010-01', 'end': '2010-12'}, 'rolling_window': {'train_window_months': 1, 'test_offset': 1}}, 'features': {'base': ['mom36m', 'realestate', 'indmom', 'roeq', 'agr', 'siccd']}, 'preprocessing_pipeline': ['drop_na', 'encode_industry', 'quantile_transform'], 'model': {'name': 'mlpk', 'params': {'hidden_layer_sizes': [[64, 32, 16]], 'activation': ['relu'], 'solver': ['adam'], 'max_iter': [2000], 'alpha': [0.001], 'learning_rate_init': [0.001]}}}}\n"
     ]
    }
   ],
   "source": [
    "# In your backtesting.ipynb notebook cell\n",
    "from pathlib import Path\n",
    "import sys\n",
    "import os\n",
    "import yaml\n",
    "import pandas as pd\n",
    "from dotenv import load_dotenv\n",
    "\n",
    "load_dotenv()\n",
    "\n",
    "ROOT_DIR = Path.cwd().parent\n",
    "sys.path.append(str(ROOT_DIR))\n",
    "sys.path.append(str(ROOT_DIR / \"src\"))\n",
    "\n",
    "from backtest.backtest import run_backtest\n",
    "from backtest.evaluation import evaluate_portfolio, plot_performance\n",
    "from data.fetch_data import get_db_engine, fetch_stock_data_with_features\n",
    "from trading.portfolio import evaluate_portfolio_returns\n",
    "\n",
    "# Load environment variables from .env\n",
    "load_dotenv(ROOT_DIR / \".env\")\n",
    "\n",
    "# Fetch sensitive credentials from .env file\n",
    "server = os.getenv(\"DB_SERVER\")\n",
    "username = os.getenv(\"DB_USERNAME\")\n",
    "password = os.getenv(\"DB_PASSWORD\")\n",
    "database = os.getenv(\"DB_NAME\")\n",
    "\n",
    "# Create your database engine (provide your actual credentials)\n",
    "engine = get_db_engine(server,username,password,database)\n",
    "\n",
    "# Load YAML configuration (adjust path if necessary)\n",
    "with open(ROOT_DIR / \"src\" / \"config\" / \"config.yaml\", \"r\") as f:\n",
    "    config = yaml.safe_load(f)\n",
    "print(config)"
   ]
  },
  {
   "cell_type": "markdown",
   "metadata": {},
   "source": [
    "## Experiment 1"
   ]
  },
  {
   "cell_type": "code",
   "execution_count": 2,
   "metadata": {},
   "outputs": [
    {
     "name": "stderr",
     "output_type": "stream",
     "text": [
      "INFO:root:Constructed query: SELECT ticker, date, ret, mom1m, mom6m, mom12m, retvol, bm, siccd FROM data WHERE date BETWEEN '2010-01' AND '2010-04'\n",
      "INFO:root:Fetched 15178 rows from database.\n",
      "INFO:root:Data fetched with date configuration: {'overall_date_range': {'start': '2010-01', 'end': '2010-04'}, 'rolling_window': {'train_window_months': 1, 'test_offset': 1}}\n",
      "INFO:root:Pooled data from months: ['2010-01'] with 3829 common tickers.\n",
      "INFO:root:Starting preprocessing pipeline.\n"
     ]
    },
    {
     "name": "stdout",
     "output_type": "stream",
     "text": [
      "Date settings: {'overall_date_range': {'start': '2010-01', 'end': '2010-04'}, 'rolling_window': {'train_window_months': 1, 'test_offset': 1}}\n",
      "  ticker     date       ret     mom1m     mom6m    mom12m    retvol        bm  \\\n",
      "0   EGAS  2010-01 -0.018932  0.162621  0.062002 -0.083704  0.038978  0.847542   \n",
      "1   BTFG  2010-01  0.365854  0.036101 -0.070470 -0.810957  0.017489  0.940487   \n",
      "2   AEPI  2010-01 -0.088036  0.012966  0.431982  1.149602  0.022376  0.303866   \n",
      "3   JJSF  2010-01  0.046296  0.109903  0.007841  0.013983  0.013309  0.498279   \n",
      "4   DGSE  2010-01 -0.028369  0.029197  0.245455 -0.194118  0.047844  0.753448   \n",
      "\n",
      "   siccd  \n",
      "0   4925  \n",
      "1   6020  \n",
      "2   3081  \n",
      "3   2052  \n",
      "4   5094  \n"
     ]
    },
    {
     "name": "stderr",
     "output_type": "stream",
     "text": [
      "INFO:root:Data preprocessing completed successfully.\n"
     ]
    },
    {
     "name": "stdout",
     "output_type": "stream",
     "text": [
      "\u001b[1m24/24\u001b[0m \u001b[32m━━━━━━━━━━━━━━━━━━━━\u001b[0m\u001b[37m\u001b[0m \u001b[1m0s\u001b[0m 3ms/step\n"
     ]
    },
    {
     "name": "stderr",
     "output_type": "stream",
     "text": [
      "INFO:root:Tested params {'hidden_layer_sizes': [8, 4], 'activation': 'relu', 'solver': 'adam', 'max_iter': 500} => val R2: 0.1314\n",
      "INFO:root:Best hyperparameters: {'hidden_layer_sizes': [8, 4], 'activation': 'relu', 'solver': 'adam', 'max_iter': 500}, validation R2: 0.1314\n",
      "WARNING:absl:You are saving your model as an HDF5 file via `model.save()` or `keras.saving.save_model(model)`. This file format is considered legacy. We recommend using instead the native Keras format, e.g. `model.save('my_model.keras')` or `keras.saving.save_model(model, 'my_model.keras')`. \n",
      "INFO:root:Model saved as: /home/austin-lipe/GdriveOffline/Stock Prediction Project/stock-prediction-project/data/models/mlpk_2025-04-12_r2_0.1314.h5\n"
     ]
    },
    {
     "name": "stdout",
     "output_type": "stream",
     "text": [
      "\u001b[1m117/117\u001b[0m \u001b[32m━━━━━━━━━━━━━━━━━━━━\u001b[0m\u001b[37m\u001b[0m \u001b[1m0s\u001b[0m 1ms/step\n"
     ]
    },
    {
     "name": "stderr",
     "output_type": "stream",
     "text": [
      "INFO:root:Starting preprocessing pipeline.\n",
      "INFO:root:Data preprocessing completed successfully.\n"
     ]
    },
    {
     "name": "stdout",
     "output_type": "stream",
     "text": [
      "\u001b[1m116/116\u001b[0m \u001b[32m━━━━━━━━━━━━━━━━━━━━\u001b[0m\u001b[37m\u001b[0m \u001b[1m0s\u001b[0m 942us/step\n"
     ]
    },
    {
     "name": "stderr",
     "output_type": "stream",
     "text": [
      "INFO:root:Backtest for test month 2010-02: Train R2 = 0.1769, Test R2 = -0.2868\n",
      "INFO:root:Pooled data from months: ['2010-02'] with 3807 common tickers.\n",
      "INFO:root:Starting preprocessing pipeline.\n",
      "INFO:root:Data preprocessing completed successfully.\n"
     ]
    },
    {
     "name": "stdout",
     "output_type": "stream",
     "text": [
      "\u001b[1m24/24\u001b[0m \u001b[32m━━━━━━━━━━━━━━━━━━━━\u001b[0m\u001b[37m\u001b[0m \u001b[1m0s\u001b[0m 3ms/step\n"
     ]
    },
    {
     "name": "stderr",
     "output_type": "stream",
     "text": [
      "INFO:root:Tested params {'hidden_layer_sizes': [8, 4], 'activation': 'relu', 'solver': 'adam', 'max_iter': 500} => val R2: 0.0055\n",
      "INFO:root:Best hyperparameters: {'hidden_layer_sizes': [8, 4], 'activation': 'relu', 'solver': 'adam', 'max_iter': 500}, validation R2: 0.0055\n",
      "WARNING:absl:You are saving your model as an HDF5 file via `model.save()` or `keras.saving.save_model(model)`. This file format is considered legacy. We recommend using instead the native Keras format, e.g. `model.save('my_model.keras')` or `keras.saving.save_model(model, 'my_model.keras')`. \n",
      "INFO:root:Model saved as: /home/austin-lipe/GdriveOffline/Stock Prediction Project/stock-prediction-project/data/models/mlpk_2025-04-12_r2_0.0055.h5\n"
     ]
    },
    {
     "name": "stdout",
     "output_type": "stream",
     "text": [
      "\u001b[1m116/116\u001b[0m \u001b[32m━━━━━━━━━━━━━━━━━━━━\u001b[0m\u001b[37m\u001b[0m \u001b[1m0s\u001b[0m 1ms/step\n"
     ]
    },
    {
     "name": "stderr",
     "output_type": "stream",
     "text": [
      "INFO:root:Starting preprocessing pipeline.\n",
      "INFO:root:Data preprocessing completed successfully.\n"
     ]
    },
    {
     "name": "stdout",
     "output_type": "stream",
     "text": [
      "\u001b[1m116/116\u001b[0m \u001b[32m━━━━━━━━━━━━━━━━━━━━\u001b[0m\u001b[37m\u001b[0m \u001b[1m0s\u001b[0m 979us/step\n"
     ]
    },
    {
     "name": "stderr",
     "output_type": "stream",
     "text": [
      "INFO:root:Backtest for test month 2010-03: Train R2 = 0.0456, Test R2 = -0.0489\n",
      "INFO:root:Pooled data from months: ['2010-03'] with 3785 common tickers.\n",
      "INFO:root:Starting preprocessing pipeline.\n",
      "INFO:root:Data preprocessing completed successfully.\n"
     ]
    },
    {
     "name": "stdout",
     "output_type": "stream",
     "text": [
      "\u001b[1m24/24\u001b[0m \u001b[32m━━━━━━━━━━━━━━━━━━━━\u001b[0m\u001b[37m\u001b[0m \u001b[1m0s\u001b[0m 3ms/step\n"
     ]
    },
    {
     "name": "stderr",
     "output_type": "stream",
     "text": [
      "INFO:root:Tested params {'hidden_layer_sizes': [8, 4], 'activation': 'relu', 'solver': 'adam', 'max_iter': 500} => val R2: -0.0172\n",
      "INFO:root:Best hyperparameters: {'hidden_layer_sizes': [8, 4], 'activation': 'relu', 'solver': 'adam', 'max_iter': 500}, validation R2: -0.0172\n",
      "WARNING:absl:You are saving your model as an HDF5 file via `model.save()` or `keras.saving.save_model(model)`. This file format is considered legacy. We recommend using instead the native Keras format, e.g. `model.save('my_model.keras')` or `keras.saving.save_model(model, 'my_model.keras')`. \n",
      "INFO:root:Model saved as: /home/austin-lipe/GdriveOffline/Stock Prediction Project/stock-prediction-project/data/models/mlpk_2025-04-12_r2_-0.0172.h5\n"
     ]
    },
    {
     "name": "stdout",
     "output_type": "stream",
     "text": [
      "\u001b[1m116/116\u001b[0m \u001b[32m━━━━━━━━━━━━━━━━━━━━\u001b[0m\u001b[37m\u001b[0m \u001b[1m0s\u001b[0m 1ms/step\n"
     ]
    },
    {
     "name": "stderr",
     "output_type": "stream",
     "text": [
      "INFO:root:Starting preprocessing pipeline.\n",
      "INFO:root:Data preprocessing completed successfully.\n"
     ]
    },
    {
     "name": "stdout",
     "output_type": "stream",
     "text": [
      "\u001b[1m115/115\u001b[0m \u001b[32m━━━━━━━━━━━━━━━━━━━━\u001b[0m\u001b[37m\u001b[0m \u001b[1m0s\u001b[0m 1ms/step\n"
     ]
    },
    {
     "name": "stderr",
     "output_type": "stream",
     "text": [
      "INFO:root:Backtest for test month 2010-04: Train R2 = 0.0297, Test R2 = -0.0134\n",
      "INFO:root:Pooled data from months: ['2010-04'] with 3757 common tickers.\n",
      "INFO:root:Starting preprocessing pipeline.\n",
      "INFO:root:Data preprocessing completed successfully.\n"
     ]
    },
    {
     "name": "stdout",
     "output_type": "stream",
     "text": [
      "\u001b[1m23/23\u001b[0m \u001b[32m━━━━━━━━━━━━━━━━━━━━\u001b[0m\u001b[37m\u001b[0m \u001b[1m0s\u001b[0m 3ms/step\n"
     ]
    },
    {
     "name": "stderr",
     "output_type": "stream",
     "text": [
      "INFO:root:Tested params {'hidden_layer_sizes': [8, 4], 'activation': 'relu', 'solver': 'adam', 'max_iter': 500} => val R2: 0.0485\n",
      "INFO:root:Best hyperparameters: {'hidden_layer_sizes': [8, 4], 'activation': 'relu', 'solver': 'adam', 'max_iter': 500}, validation R2: 0.0485\n",
      "WARNING:absl:You are saving your model as an HDF5 file via `model.save()` or `keras.saving.save_model(model)`. This file format is considered legacy. We recommend using instead the native Keras format, e.g. `model.save('my_model.keras')` or `keras.saving.save_model(model, 'my_model.keras')`. \n",
      "INFO:root:Model saved as: /home/austin-lipe/GdriveOffline/Stock Prediction Project/stock-prediction-project/data/models/mlpk_2025-04-12_r2_0.0485.h5\n"
     ]
    },
    {
     "name": "stdout",
     "output_type": "stream",
     "text": [
      "\u001b[1m115/115\u001b[0m \u001b[32m━━━━━━━━━━━━━━━━━━━━\u001b[0m\u001b[37m\u001b[0m \u001b[1m0s\u001b[0m 1ms/step  \n"
     ]
    },
    {
     "name": "stderr",
     "output_type": "stream",
     "text": [
      "WARNING:root:No test data available for 2010-05, skipping.\n",
      "INFO:root:Constructed portfolio with 150 long and 50 short positions.\n",
      "INFO:root:Constructed portfolio with 150 long and 50 short positions.\n",
      "INFO:root:Constructed portfolio with 150 long and 50 short positions.\n"
     ]
    },
    {
     "name": "stdout",
     "output_type": "stream",
     "text": [
      "Accumulation (cumulative returns): 0.9582407456273689\n",
      "Maximum Drawdown: -0.025032945312559618\n",
      "Mean Return: -0.012685967910931328\n",
      "Standard Deviation: 0.06547944965806475\n",
      "Sharpe Ratio: -0.6711339536194529\n"
     ]
    },
    {
     "data": {
      "image/png": "[encoded data removed]",
      "text/plain": [
       "<Figure size 640x480 with 2 Axes>"
      ]
     },
     "metadata": {},
     "output_type": "display_data"
    }
   ],
   "source": [
    "experiment = 'default'\n",
    "\n",
    "date_config = config[experiment][\"data\"]\n",
    "\n",
    "# Extract features and date settings from the \"default\" configuration\n",
    "model_name = config[experiment]['model']['name']\n",
    "features = config[experiment][\"features\"][\"base\"]\n",
    "train_window_months = date_config['rolling_window']['train_window_months']\n",
    "start_month = date_config['overall_date_range']['start']\n",
    "end_month = date_config['overall_date_range']['end']\n",
    "param_grid = config[experiment]['model']['params']\n",
    "preprocessing_pipeline = config[experiment]['preprocessing_pipeline']\n",
    "\n",
    "# Fetch the data with the provided features and date configuration\n",
    "df, dates = fetch_stock_data_with_features(engine, features, date_config, table_name=\"data\")\n",
    "\n",
    "print(\"Date settings:\", dates)\n",
    "print(df.head())\n",
    "\n",
    "\n",
    "# Run backtest\n",
    "results_df = run_backtest(df, model_name, features, train_window_months, start_month, end_month, param_grid, preprocessing_pipeline)\n",
    "\n",
    "# examine results\n",
    "monthly_ret = evaluate_portfolio_returns(results_df)\n",
    "\n",
    "metrics = evaluate_portfolio(monthly_ret)\n",
    "cumulative_returns = metrics[\"cumulative_returns\"]\n",
    "drawdowns = metrics[\"drawdowns\"]\n",
    "\n",
    "print(\"Accumulation (cumulative returns):\", cumulative_returns.tail(1).values[0])\n",
    "print(\"Maximum Drawdown:\", drawdowns.min())\n",
    "print(\"Mean Return:\", metrics[\"mean_return\"])\n",
    "print(\"Standard Deviation:\", metrics[\"std_dev\"])\n",
    "print(\"Sharpe Ratio:\", metrics[\"sharpe_ratio\"])\n",
    "\n",
    "plot_performance(monthly_ret)"
   ]
  },
  {
   "cell_type": "markdown",
   "metadata": {},
   "source": [
    "## Experiment 2"
   ]
  },
  {
   "cell_type": "code",
   "execution_count": 2,
   "metadata": {},
   "outputs": [
    {
     "ename": "NameError",
     "evalue": "name 'config' is not defined",
     "output_type": "error",
     "traceback": [
      "\u001b[0;31m---------------------------------------------------------------------------\u001b[0m",
      "\u001b[0;31mNameError\u001b[0m                                 Traceback (most recent call last)",
      "Cell \u001b[0;32mIn[2], line 3\u001b[0m\n\u001b[1;32m      1\u001b[0m experiment \u001b[38;5;241m=\u001b[39m \u001b[38;5;124m'\u001b[39m\u001b[38;5;124mexperiment_1\u001b[39m\u001b[38;5;124m'\u001b[39m\n\u001b[0;32m----> 3\u001b[0m date_config \u001b[38;5;241m=\u001b[39m \u001b[43mconfig\u001b[49m[experiment][\u001b[38;5;124m\"\u001b[39m\u001b[38;5;124mdata\u001b[39m\u001b[38;5;124m\"\u001b[39m]\n\u001b[1;32m      5\u001b[0m \u001b[38;5;66;03m# Extract features and date settings from the \"default\" configuration\u001b[39;00m\n\u001b[1;32m      6\u001b[0m model_name \u001b[38;5;241m=\u001b[39m config[experiment][\u001b[38;5;124m'\u001b[39m\u001b[38;5;124mmodel\u001b[39m\u001b[38;5;124m'\u001b[39m][\u001b[38;5;124m'\u001b[39m\u001b[38;5;124mname\u001b[39m\u001b[38;5;124m'\u001b[39m]\n",
      "\u001b[0;31mNameError\u001b[0m: name 'config' is not defined"
     ]
    }
   ],
   "source": [
    "experiment = 'experiment_1'\n",
    "\n",
    "date_config = config[experiment][\"data\"]\n",
    "\n",
    "# Extract features and date settings from the \"default\" configuration\n",
    "model_name = config[experiment]['model']['name']\n",
    "features = config[experiment][\"features\"][\"base\"]\n",
    "train_window_months = date_config['rolling_window']['train_window_months']\n",
    "start_month = date_config['overall_date_range']['start']\n",
    "end_month = date_config['overall_date_range']['end']\n",
    "param_grid = config[experiment]['model']['params']\n",
    "preprocessing_pipeline = config[experiment]['preprocessing_pipeline']\n",
    "\n",
    "# Fetch the data with the provided features and date configuration\n",
    "df, dates = fetch_stock_data_with_features(engine, features, date_config, table_name=\"data\")\n",
    "\n",
    "print(\"Date settings:\", dates)\n",
    "print(df.head())\n",
    "\n",
    "\n",
    "# Run backtest\n",
    "results_df = run_backtest(df, model_name, features, train_window_months, start_month, end_month, param_grid, preprocessing_pipeline)\n",
    "\n",
    "# contruct portfolio\n",
    "monthly_ret = evaluate_portfolio_returns(results_df)\n",
    "\n",
    "# evaluate returns\n",
    "metrics = evaluate_portfolio(monthly_ret)\n",
    "cumulative_returns = metrics[\"cumulative_returns\"]\n",
    "drawdowns = metrics[\"drawdowns\"]\n",
    "\n",
    "print(\"Accumulation (cumulative returns):\", cumulative_returns.tail(1).values[0])\n",
    "print(\"Maximum Drawdown:\", drawdowns.min())\n",
    "print(\"Mean Return:\", metrics[\"mean_return\"])\n",
    "print(\"Standard Deviation:\", metrics[\"std_dev\"])\n",
    "print(\"Sharpe Ratio:\", metrics[\"sharpe_ratio\"])\n",
    "\n",
    "plot_performance(monthly_ret)"
   ]
  },
  {
   "cell_type": "code",
   "execution_count": null,
   "metadata": {},
   "outputs": [],
   "source": []
  }
 ],
 "metadata": {
  "kernelspec": {
   "display_name": "finance_env",
   "language": "python",
   "name": "python3"
  },
  "language_info": {
   "codemirror_mode": {
    "name": "ipython",
    "version": 3
   },
   "file_extension": ".py",
   "mimetype": "text/x-python",
   "name": "python",
   "nbconvert_exporter": "python",
   "pygments_lexer": "ipython3",
   "version": "3.11.11"
  }
 },
 "nbformat": 4,
 "nbformat_minor": 2
}
