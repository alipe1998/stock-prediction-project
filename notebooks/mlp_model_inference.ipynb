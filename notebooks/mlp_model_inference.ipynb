{
 "cells": [
  {
   "cell_type": "markdown",
   "metadata": {},
   "source": [
    "# MLP Inference"
   ]
  },
  {
   "cell_type": "code",
   "execution_count": null,
   "metadata": {},
   "outputs": [],
   "source": [
    "import logging\n",
    "from pathlib import Path\n",
    "import os\n",
    "import sys\n",
    "from dotenv import load_dotenv\n",
    "from datetime import datetime\n",
    "\n",
    "# Setup paths\n",
    "ROOT_DIR = Path.cwd().parent\n",
    "sys.path.append(str(ROOT_DIR))\n",
    "\n",
    "# Load environment variables from .env\n",
    "load_dotenv(ROOT_DIR / \".env\")\n",
    "\n",
    "# Adjust sys.path for imports\n",
    "import sys\n",
    "sys.path.append(str(ROOT_DIR / \"src\"))\n",
    "\n",
    "# Import project modules\n",
    "from models.inference import run_inference\n",
    "\n",
    "import config\n",
    "\n",
    "MODEL_PATH = ROOT_DIR / 'data' / 'models' / 'mlp_2025-03-30_r2_0.0264.pkl'\n",
    "FEATURES = config.FEATURES_MLP_MODEL\n",
    "\n",
    "logging.basicConfig(level=logging.INFO)\n",
    "\n",
    "# Fetch sensitive credentials from .env file\n",
    "server = os.getenv(\"DB_SERVER\")\n",
    "username = os.getenv(\"DB_USERNAME\")\n",
    "password = os.getenv(\"DB_PASSWORD\")\n",
    "database = os.getenv(\"DB_NAME\")"
   ]
  },
  {
   "cell_type": "code",
   "execution_count": 5,
   "metadata": {},
   "outputs": [
    {
     "name": "stderr",
     "output_type": "stream",
     "text": [
      "INFO:root:Database connection established successfully.\n",
      "INFO:root:Trained model loaded successfully.\n",
      "INFO:root:Fetched 2380 rows from database.\n",
      "/home/austin-lipe/GdriveOffline/Rice_Classes/BUSI722/Trader-Project/stock-prediction-project/src/data/preprocess.py:20: SettingWithCopyWarning: \n",
      "A value is trying to be set on a copy of a slice from a DataFrame.\n",
      "Try using .loc[row_indexer,col_indexer] = value instead\n",
      "\n",
      "See the caveats in the documentation: https://pandas.pydata.org/pandas-docs/stable/user_guide/indexing.html#returning-a-view-versus-a-copy\n",
      "  df[features + [\"ret\"]] = df.groupby(\"date\", group_keys=False).apply(\n",
      "INFO:root:Data preprocessing completed successfully.\n",
      "INFO:root:Predictions saved to /home/austin-lipe/GdriveOffline/Rice_Classes/BUSI722/Trader-Project/stock-prediction-project/data/live/predictions_2025-03-30.csv\n"
     ]
    },
    {
     "name": "stdout",
     "output_type": "stream",
     "text": [
      "  ticker     date  predicted_ret\n",
      "0   JJSF  2022-03       0.056634\n",
      "1    ELA  2022-03       0.386999\n",
      "3   RMCF  2022-03       0.338196\n",
      "4   ORCL  2022-03       0.293522\n",
      "5   MSFT  2022-03       0.319136\n"
     ]
    }
   ],
   "source": [
    "# Set current_month dynamically or manually (the most recent date in ghz is 2022-03)\n",
    "current_month = '2022-03'\n",
    "try:\n",
    "    predictions_df = run_inference(MODEL_PATH, FEATURES, current_month)\n",
    "    print(predictions_df.head())\n",
    "except Exception as e:\n",
    "    logging.error(f\"Inference pipeline failed: {e}\")"
   ]
  },
  {
   "cell_type": "code",
   "execution_count": null,
   "metadata": {},
   "outputs": [],
   "source": []
  }
 ],
 "metadata": {
  "kernelspec": {
   "display_name": "busi721_env",
   "language": "python",
   "name": "python3"
  },
  "language_info": {
   "codemirror_mode": {
    "name": "ipython",
    "version": 3
   },
   "file_extension": ".py",
   "mimetype": "text/x-python",
   "name": "python",
   "nbconvert_exporter": "python",
   "pygments_lexer": "ipython3",
   "version": "3.11.11"
  }
 },
 "nbformat": 4,
 "nbformat_minor": 2
}
