{
 "cells": [
  {
   "cell_type": "markdown",
   "metadata": {},
   "source": [
    "# Data Exploration"
   ]
  },
  {
   "cell_type": "code",
   "execution_count": 4,
   "metadata": {},
   "outputs": [
    {
     "name": "stderr",
     "output_type": "stream",
     "text": [
      "INFO:root:Database connection established successfully.\n"
     ]
    }
   ],
   "source": [
    "import logging\n",
    "from pathlib import Path\n",
    "import os\n",
    "import sys\n",
    "from dotenv import load_dotenv\n",
    "from datetime import datetime\n",
    "\n",
    "# Setup paths\n",
    "ROOT_DIR = Path.cwd().parent\n",
    "sys.path.append(str(ROOT_DIR))\n",
    "\n",
    "# Load environment variables from .env\n",
    "load_dotenv(ROOT_DIR / \".env\")\n",
    "\n",
    "# Adjust sys.path for imports\n",
    "import sys\n",
    "sys.path.append(str(ROOT_DIR / \"src\"))\n",
    "\n",
    "# Import project modules\n",
    "from data.fetch_data import get_db_engine, fetch_stock_data\n",
    "\n",
    "import config\n",
    "\n",
    "MODEL_PATH = ROOT_DIR / 'data' / 'models' / 'mlp_2025-03-30_r2_0.0264.pkl'\n",
    "FEATURES = config.FEATURES_MLP_MODEL\n",
    "\n",
    "logging.basicConfig(level=logging.INFO)\n",
    "\n",
    "# Fetch sensitive credentials from .env file\n",
    "server = os.getenv(\"DB_SERVER\")\n",
    "username = os.getenv(\"DB_USERNAME\")\n",
    "password = os.getenv(\"DB_PASSWORD\")\n",
    "database = os.getenv(\"DB_NAME\")\n",
    "\n",
    "# Database connection\n",
    "ENGINE = get_db_engine(server, username, password, database)"
   ]
  },
  {
   "cell_type": "markdown",
   "metadata": {},
   "source": [
    "### Get the most recent date and first date"
   ]
  },
  {
   "cell_type": "code",
   "execution_count": 11,
   "metadata": {},
   "outputs": [
    {
     "name": "stderr",
     "output_type": "stream",
     "text": [
      "INFO:root:Fetched 1 rows from database.\n",
      "INFO:root:Fetched 1 rows from database.\n"
     ]
    }
   ],
   "source": [
    "sql_query = \"SELECT MAX(date) AS most_recent_date FROM data\"\n",
    "df_max = fetch_stock_data(ENGINE, sql_query)\n",
    "\n",
    "sql_query = \"SELECT MIN(date) AS most_recent_date FROM data\"\n",
    "df_min = fetch_stock_data(ENGINE, sql_query)"
   ]
  },
  {
   "cell_type": "code",
   "execution_count": 18,
   "metadata": {},
   "outputs": [
    {
     "name": "stdout",
     "output_type": "stream",
     "text": [
      "2000-01 to 2022-03\n"
     ]
    }
   ],
   "source": [
    "print(f\"{df_min.iloc[0].values[0]} to {df_max.iloc[0].values[0]}\")"
   ]
  },
  {
   "cell_type": "markdown",
   "metadata": {},
   "source": [
    "### Find granularity of dates"
   ]
  },
  {
   "cell_type": "code",
   "execution_count": 19,
   "metadata": {},
   "outputs": [
    {
     "name": "stderr",
     "output_type": "stream",
     "text": [
      "INFO:root:Fetched 10 rows from database.\n"
     ]
    }
   ],
   "source": [
    "sql_query = \"SELECT DISTINCT TOP 10 date FROM data ORDER BY date\"\n",
    "df = fetch_stock_data(ENGINE, sql_query)"
   ]
  },
  {
   "cell_type": "code",
   "execution_count": 20,
   "metadata": {},
   "outputs": [
    {
     "data": {
      "text/html": [
       "<div>\n",
       "<style scoped>\n",
       "    .dataframe tbody tr th:only-of-type {\n",
       "        vertical-align: middle;\n",
       "    }\n",
       "\n",
       "    .dataframe tbody tr th {\n",
       "        vertical-align: top;\n",
       "    }\n",
       "\n",
       "    .dataframe thead th {\n",
       "        text-align: right;\n",
       "    }\n",
       "</style>\n",
       "<table border=\"1\" class=\"dataframe\">\n",
       "  <thead>\n",
       "    <tr style=\"text-align: right;\">\n",
       "      <th></th>\n",
       "      <th>date</th>\n",
       "    </tr>\n",
       "  </thead>\n",
       "  <tbody>\n",
       "    <tr>\n",
       "      <th>0</th>\n",
       "      <td>2000-01</td>\n",
       "    </tr>\n",
       "    <tr>\n",
       "      <th>1</th>\n",
       "      <td>2000-02</td>\n",
       "    </tr>\n",
       "    <tr>\n",
       "      <th>2</th>\n",
       "      <td>2000-03</td>\n",
       "    </tr>\n",
       "    <tr>\n",
       "      <th>3</th>\n",
       "      <td>2000-04</td>\n",
       "    </tr>\n",
       "    <tr>\n",
       "      <th>4</th>\n",
       "      <td>2000-05</td>\n",
       "    </tr>\n",
       "    <tr>\n",
       "      <th>5</th>\n",
       "      <td>2000-06</td>\n",
       "    </tr>\n",
       "    <tr>\n",
       "      <th>6</th>\n",
       "      <td>2000-07</td>\n",
       "    </tr>\n",
       "    <tr>\n",
       "      <th>7</th>\n",
       "      <td>2000-08</td>\n",
       "    </tr>\n",
       "    <tr>\n",
       "      <th>8</th>\n",
       "      <td>2000-09</td>\n",
       "    </tr>\n",
       "    <tr>\n",
       "      <th>9</th>\n",
       "      <td>2000-10</td>\n",
       "    </tr>\n",
       "  </tbody>\n",
       "</table>\n",
       "</div>"
      ],
      "text/plain": [
       "      date\n",
       "0  2000-01\n",
       "1  2000-02\n",
       "2  2000-03\n",
       "3  2000-04\n",
       "4  2000-05\n",
       "5  2000-06\n",
       "6  2000-07\n",
       "7  2000-08\n",
       "8  2000-09\n",
       "9  2000-10"
      ]
     },
     "execution_count": 20,
     "metadata": {},
     "output_type": "execute_result"
    }
   ],
   "source": [
    "df"
   ]
  },
  {
   "cell_type": "markdown",
   "metadata": {},
   "source": [
    "### Return all columns"
   ]
  },
  {
   "cell_type": "code",
   "execution_count": 8,
   "metadata": {},
   "outputs": [
    {
     "name": "stderr",
     "output_type": "stream",
     "text": [
      "INFO:root:Fetched 1 rows from database.\n"
     ]
    },
    {
     "name": "stdout",
     "output_type": "stream",
     "text": [
      "<class 'pandas.core.frame.DataFrame'>\n",
      "RangeIndex: 1 entries, 0 to 0\n",
      "Data columns (total 107 columns):\n",
      " #    Column           Dtype  \n",
      "---   ------           -----  \n",
      " 0    date             object \n",
      " 1    ticker           object \n",
      " 2    permno           int64  \n",
      " 3    siccd            int64  \n",
      " 4    ret              float64\n",
      " 5    absacc           object \n",
      " 6    acc              object \n",
      " 7    aeavol           float64\n",
      " 8    age              float64\n",
      " 9    agr              object \n",
      " 10   baspread         float64\n",
      " 11   beta             float64\n",
      " 12   betasq           float64\n",
      " 13   bm               float64\n",
      " 14   bm_ia            float64\n",
      " 15   cash             float64\n",
      " 16   cashdebt         float64\n",
      " 17   cashpr           float64\n",
      " 18   cfp              float64\n",
      " 19   cfp_ia           float64\n",
      " 20   chatoia          object \n",
      " 21   chcsho           object \n",
      " 22   chempia          object \n",
      " 23   chfeps           float64\n",
      " 24   chinv            object \n",
      " 25   chmom            object \n",
      " 26   chnanalyst       float64\n",
      " 27   chpmia           object \n",
      " 28   chtx             float64\n",
      " 29   cinvest          float64\n",
      " 30   convind          float64\n",
      " 31   currat           float64\n",
      " 32   depr             float64\n",
      " 33   disp             float64\n",
      " 34   divi             object \n",
      " 35   divo             object \n",
      " 36   dolvol           float64\n",
      " 37   dy               float64\n",
      " 38   ear              float64\n",
      " 39   egr              object \n",
      " 40   ep               float64\n",
      " 41   fgr5yr           object \n",
      " 42   gma              object \n",
      " 43   grcapx           object \n",
      " 44   grltnoa          object \n",
      " 45   herf             float64\n",
      " 46   hire             object \n",
      " 47   idiovol          float64\n",
      " 48   ill              float64\n",
      " 49   indmom           float64\n",
      " 50   invest           object \n",
      " 51   ipo              float64\n",
      " 52   lev              float64\n",
      " 53   lgr              object \n",
      " 54   maxret           float64\n",
      " 55   mom12m           object \n",
      " 56   mom1m            float64\n",
      " 57   mom36m           object \n",
      " 58   mom6m            float64\n",
      " 59   ms               float64\n",
      " 60   mve              float64\n",
      " 61   mve_ia           float64\n",
      " 62   nanalyst         float64\n",
      " 63   nincr            float64\n",
      " 64   operprof         object \n",
      " 65   orgcap           object \n",
      " 66   pchcapx_ia       object \n",
      " 67   pchcurrat        object \n",
      " 68   pchdepr          object \n",
      " 69   pchgm_pchsale    object \n",
      " 70   pchquick         object \n",
      " 71   pchsale_pchinvt  object \n",
      " 72   pchsale_pchrect  object \n",
      " 73   pchsale_pchxsga  object \n",
      " 74   pchsaleinv       object \n",
      " 75   pctacc           object \n",
      " 76   pricedelay       float64\n",
      " 77   ps               object \n",
      " 78   quick            float64\n",
      " 79   rd               object \n",
      " 80   rd_mve           float64\n",
      " 81   rd_sale          float64\n",
      " 82   realestate       float64\n",
      " 83   retvol           float64\n",
      " 84   roaq             float64\n",
      " 85   roavol           object \n",
      " 86   roeq             float64\n",
      " 87   roic             float64\n",
      " 88   rsup             float64\n",
      " 89   salecash         float64\n",
      " 90   saleinv          object \n",
      " 91   salerec          float64\n",
      " 92   secured          object \n",
      " 93   securedind       float64\n",
      " 94   sfe              float64\n",
      " 95   sgr              object \n",
      " 96   sin              float64\n",
      " 97   sp               float64\n",
      " 98   std_dolvol       float64\n",
      " 99   std_turn         float64\n",
      " 100  stdacc           object \n",
      " 101  stdcf            object \n",
      " 102  sue              float64\n",
      " 103  tang             float64\n",
      " 104  tb               float64\n",
      " 105  turn             float64\n",
      " 106  zerotrade        float64\n",
      "dtypes: float64(62), int64(2), object(43)\n",
      "memory usage: 988.0+ bytes\n"
     ]
    }
   ],
   "source": [
    "sql_query = \"SELECT TOP 1 * FROM data\"\n",
    "# Fetch and preprocess data\n",
    "df = fetch_stock_data(ENGINE, sql_query)\n",
    "df.info(verbose=True)"
   ]
  },
  {
   "cell_type": "code",
   "execution_count": null,
   "metadata": {},
   "outputs": [],
   "source": []
  }
 ],
 "metadata": {
  "kernelspec": {
   "display_name": "busi721_env",
   "language": "python",
   "name": "python3"
  },
  "language_info": {
   "codemirror_mode": {
    "name": "ipython",
    "version": 3
   },
   "file_extension": ".py",
   "mimetype": "text/x-python",
   "name": "python",
   "nbconvert_exporter": "python",
   "pygments_lexer": "ipython3",
   "version": "3.11.11"
  }
 },
 "nbformat": 4,
 "nbformat_minor": 2
}
